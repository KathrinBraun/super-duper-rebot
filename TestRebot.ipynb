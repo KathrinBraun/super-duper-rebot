{
 "cells": [
  {
   "cell_type": "code",
   "execution_count": 1,
   "id": "atmospheric-terminal",
   "metadata": {},
   "outputs": [
    {
     "data": {
      "text/plain": [
       "[30, 35, 40, 25]"
      ]
     },
     "execution_count": 1,
     "metadata": {},
     "output_type": "execute_result"
    }
   ],
   "source": [
    "a = 3\n",
    "b = 5\n",
    "c = [3, 4, 5, 2]\n",
    "def rebot(a, b, c):\n",
    "    coll = []\n",
    "    for i in c:\n",
    "        coll.append((i + a)*b)\n",
    "    return coll\n",
    "\n",
    "rebot(a, b, c)\n",
    "        "
   ]
  },
  {
   "cell_type": "markdown",
   "id": "renewable-designation",
   "metadata": {},
   "source": [
    "![Fisch](findet-nemo-hai-fische-schildkroete.jpg)\n",
    "\n"
   ]
  },
  {
   "cell_type": "code",
   "execution_count": null,
   "id": "caring-design",
   "metadata": {},
   "outputs": [],
   "source": []
  }
 ],
 "metadata": {
  "kernelspec": {
   "display_name": "Python [conda env:nf_base] *",
   "language": "python",
   "name": "conda-env-nf_base-py"
  },
  "language_info": {
   "codemirror_mode": {
    "name": "ipython",
    "version": 3
   },
   "file_extension": ".py",
   "mimetype": "text/x-python",
   "name": "python",
   "nbconvert_exporter": "python",
   "pygments_lexer": "ipython3",
   "version": "3.8.5"
  }
 },
 "nbformat": 4,
 "nbformat_minor": 5
}
